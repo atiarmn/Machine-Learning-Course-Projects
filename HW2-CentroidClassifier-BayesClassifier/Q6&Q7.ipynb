{
 "cells": [
  {
   "cell_type": "code",
   "execution_count": null,
   "metadata": {
    "colab": {
     "base_uri": "https://localhost:8080/"
    },
    "id": "J7AuonRiaLFz",
    "outputId": "310e4290-cc7a-44f0-e0a1-335453fae9f0"
   },
   "outputs": [
    {
     "name": "stdout",
     "output_type": "stream",
     "text": [
      "Mounted at /content/drive\n"
     ]
    }
   ],
   "source": [
    "from google.colab import drive\n",
    "drive.mount('/content/drive')"
   ]
  },
  {
   "cell_type": "code",
   "execution_count": null,
   "metadata": {
    "id": "paMtQMCaaZkV"
   },
   "outputs": [],
   "source": [
    "import pandas as pd\n",
    "import matplotlib.pyplot as plt\n",
    "import numpy as np"
   ]
  },
  {
   "cell_type": "markdown",
   "metadata": {
    "id": "pEuUZU9_aro7"
   },
   "source": [
    "# سوال ۶"
   ]
  },
  {
   "cell_type": "code",
   "execution_count": null,
   "metadata": {
    "colab": {
     "base_uri": "https://localhost:8080/",
     "height": 424
    },
    "id": "P8QvtDKuapZE",
    "outputId": "6eb9e186-5f9e-401f-de95-ddf4b4ecd138"
   },
   "outputs": [
    {
     "data": {
      "text/html": [
       "\n",
       "  <div id=\"df-461aee92-27d4-473c-a19e-b43d61e36f29\">\n",
       "    <div class=\"colab-df-container\">\n",
       "      <div>\n",
       "<style scoped>\n",
       "    .dataframe tbody tr th:only-of-type {\n",
       "        vertical-align: middle;\n",
       "    }\n",
       "\n",
       "    .dataframe tbody tr th {\n",
       "        vertical-align: top;\n",
       "    }\n",
       "\n",
       "    .dataframe thead th {\n",
       "        text-align: right;\n",
       "    }\n",
       "</style>\n",
       "<table border=\"1\" class=\"dataframe\">\n",
       "  <thead>\n",
       "    <tr style=\"text-align: right;\">\n",
       "      <th></th>\n",
       "      <th>Sepal_Length</th>\n",
       "      <th>Sepal_Width</th>\n",
       "      <th>Petal_Length</th>\n",
       "      <th>Petal_Width</th>\n",
       "      <th>Class</th>\n",
       "    </tr>\n",
       "  </thead>\n",
       "  <tbody>\n",
       "    <tr>\n",
       "      <th>0</th>\n",
       "      <td>5.1</td>\n",
       "      <td>3.5</td>\n",
       "      <td>1.4</td>\n",
       "      <td>0.2</td>\n",
       "      <td>Iris-setosa</td>\n",
       "    </tr>\n",
       "    <tr>\n",
       "      <th>1</th>\n",
       "      <td>4.9</td>\n",
       "      <td>3.0</td>\n",
       "      <td>1.4</td>\n",
       "      <td>0.2</td>\n",
       "      <td>Iris-setosa</td>\n",
       "    </tr>\n",
       "    <tr>\n",
       "      <th>2</th>\n",
       "      <td>4.7</td>\n",
       "      <td>3.2</td>\n",
       "      <td>1.3</td>\n",
       "      <td>0.2</td>\n",
       "      <td>Iris-setosa</td>\n",
       "    </tr>\n",
       "    <tr>\n",
       "      <th>3</th>\n",
       "      <td>4.6</td>\n",
       "      <td>3.1</td>\n",
       "      <td>1.5</td>\n",
       "      <td>0.2</td>\n",
       "      <td>Iris-setosa</td>\n",
       "    </tr>\n",
       "    <tr>\n",
       "      <th>4</th>\n",
       "      <td>5.0</td>\n",
       "      <td>3.6</td>\n",
       "      <td>1.4</td>\n",
       "      <td>0.2</td>\n",
       "      <td>Iris-setosa</td>\n",
       "    </tr>\n",
       "    <tr>\n",
       "      <th>...</th>\n",
       "      <td>...</td>\n",
       "      <td>...</td>\n",
       "      <td>...</td>\n",
       "      <td>...</td>\n",
       "      <td>...</td>\n",
       "    </tr>\n",
       "    <tr>\n",
       "      <th>145</th>\n",
       "      <td>6.7</td>\n",
       "      <td>3.0</td>\n",
       "      <td>5.2</td>\n",
       "      <td>2.3</td>\n",
       "      <td>Iris-virginica</td>\n",
       "    </tr>\n",
       "    <tr>\n",
       "      <th>146</th>\n",
       "      <td>6.3</td>\n",
       "      <td>2.5</td>\n",
       "      <td>5.0</td>\n",
       "      <td>1.9</td>\n",
       "      <td>Iris-virginica</td>\n",
       "    </tr>\n",
       "    <tr>\n",
       "      <th>147</th>\n",
       "      <td>6.5</td>\n",
       "      <td>3.0</td>\n",
       "      <td>5.2</td>\n",
       "      <td>2.0</td>\n",
       "      <td>Iris-virginica</td>\n",
       "    </tr>\n",
       "    <tr>\n",
       "      <th>148</th>\n",
       "      <td>6.2</td>\n",
       "      <td>3.4</td>\n",
       "      <td>5.4</td>\n",
       "      <td>2.3</td>\n",
       "      <td>Iris-virginica</td>\n",
       "    </tr>\n",
       "    <tr>\n",
       "      <th>149</th>\n",
       "      <td>5.9</td>\n",
       "      <td>3.0</td>\n",
       "      <td>5.1</td>\n",
       "      <td>1.8</td>\n",
       "      <td>Iris-virginica</td>\n",
       "    </tr>\n",
       "  </tbody>\n",
       "</table>\n",
       "<p>150 rows × 5 columns</p>\n",
       "</div>\n",
       "      <button class=\"colab-df-convert\" onclick=\"convertToInteractive('df-461aee92-27d4-473c-a19e-b43d61e36f29')\"\n",
       "              title=\"Convert this dataframe to an interactive table.\"\n",
       "              style=\"display:none;\">\n",
       "        \n",
       "  <svg xmlns=\"http://www.w3.org/2000/svg\" height=\"24px\"viewBox=\"0 0 24 24\"\n",
       "       width=\"24px\">\n",
       "    <path d=\"M0 0h24v24H0V0z\" fill=\"none\"/>\n",
       "    <path d=\"M18.56 5.44l.94 2.06.94-2.06 2.06-.94-2.06-.94-.94-2.06-.94 2.06-2.06.94zm-11 1L8.5 8.5l.94-2.06 2.06-.94-2.06-.94L8.5 2.5l-.94 2.06-2.06.94zm10 10l.94 2.06.94-2.06 2.06-.94-2.06-.94-.94-2.06-.94 2.06-2.06.94z\"/><path d=\"M17.41 7.96l-1.37-1.37c-.4-.4-.92-.59-1.43-.59-.52 0-1.04.2-1.43.59L10.3 9.45l-7.72 7.72c-.78.78-.78 2.05 0 2.83L4 21.41c.39.39.9.59 1.41.59.51 0 1.02-.2 1.41-.59l7.78-7.78 2.81-2.81c.8-.78.8-2.07 0-2.86zM5.41 20L4 18.59l7.72-7.72 1.47 1.35L5.41 20z\"/>\n",
       "  </svg>\n",
       "      </button>\n",
       "      \n",
       "  <style>\n",
       "    .colab-df-container {\n",
       "      display:flex;\n",
       "      flex-wrap:wrap;\n",
       "      gap: 12px;\n",
       "    }\n",
       "\n",
       "    .colab-df-convert {\n",
       "      background-color: #E8F0FE;\n",
       "      border: none;\n",
       "      border-radius: 50%;\n",
       "      cursor: pointer;\n",
       "      display: none;\n",
       "      fill: #1967D2;\n",
       "      height: 32px;\n",
       "      padding: 0 0 0 0;\n",
       "      width: 32px;\n",
       "    }\n",
       "\n",
       "    .colab-df-convert:hover {\n",
       "      background-color: #E2EBFA;\n",
       "      box-shadow: 0px 1px 2px rgba(60, 64, 67, 0.3), 0px 1px 3px 1px rgba(60, 64, 67, 0.15);\n",
       "      fill: #174EA6;\n",
       "    }\n",
       "\n",
       "    [theme=dark] .colab-df-convert {\n",
       "      background-color: #3B4455;\n",
       "      fill: #D2E3FC;\n",
       "    }\n",
       "\n",
       "    [theme=dark] .colab-df-convert:hover {\n",
       "      background-color: #434B5C;\n",
       "      box-shadow: 0px 1px 3px 1px rgba(0, 0, 0, 0.15);\n",
       "      filter: drop-shadow(0px 1px 2px rgba(0, 0, 0, 0.3));\n",
       "      fill: #FFFFFF;\n",
       "    }\n",
       "  </style>\n",
       "\n",
       "      <script>\n",
       "        const buttonEl =\n",
       "          document.querySelector('#df-461aee92-27d4-473c-a19e-b43d61e36f29 button.colab-df-convert');\n",
       "        buttonEl.style.display =\n",
       "          google.colab.kernel.accessAllowed ? 'block' : 'none';\n",
       "\n",
       "        async function convertToInteractive(key) {\n",
       "          const element = document.querySelector('#df-461aee92-27d4-473c-a19e-b43d61e36f29');\n",
       "          const dataTable =\n",
       "            await google.colab.kernel.invokeFunction('convertToInteractive',\n",
       "                                                     [key], {});\n",
       "          if (!dataTable) return;\n",
       "\n",
       "          const docLinkHtml = 'Like what you see? Visit the ' +\n",
       "            '<a target=\"_blank\" href=https://colab.research.google.com/notebooks/data_table.ipynb>data table notebook</a>'\n",
       "            + ' to learn more about interactive tables.';\n",
       "          element.innerHTML = '';\n",
       "          dataTable['output_type'] = 'display_data';\n",
       "          await google.colab.output.renderOutput(dataTable, element);\n",
       "          const docLink = document.createElement('div');\n",
       "          docLink.innerHTML = docLinkHtml;\n",
       "          element.appendChild(docLink);\n",
       "        }\n",
       "      </script>\n",
       "    </div>\n",
       "  </div>\n",
       "  "
      ],
      "text/plain": [
       "     Sepal_Length  Sepal_Width  Petal_Length  Petal_Width           Class\n",
       "0             5.1          3.5           1.4          0.2     Iris-setosa\n",
       "1             4.9          3.0           1.4          0.2     Iris-setosa\n",
       "2             4.7          3.2           1.3          0.2     Iris-setosa\n",
       "3             4.6          3.1           1.5          0.2     Iris-setosa\n",
       "4             5.0          3.6           1.4          0.2     Iris-setosa\n",
       "..            ...          ...           ...          ...             ...\n",
       "145           6.7          3.0           5.2          2.3  Iris-virginica\n",
       "146           6.3          2.5           5.0          1.9  Iris-virginica\n",
       "147           6.5          3.0           5.2          2.0  Iris-virginica\n",
       "148           6.2          3.4           5.4          2.3  Iris-virginica\n",
       "149           5.9          3.0           5.1          1.8  Iris-virginica\n",
       "\n",
       "[150 rows x 5 columns]"
      ]
     },
     "execution_count": 203,
     "metadata": {},
     "output_type": "execute_result"
    }
   ],
   "source": [
    "iris_data = pd.read_csv('/content/drive/MyDrive/Iris.csv')\n",
    "iris_data"
   ]
  },
  {
   "cell_type": "code",
   "execution_count": null,
   "metadata": {
    "colab": {
     "base_uri": "https://localhost:8080/"
    },
    "id": "wlvcxJV8bqEr",
    "outputId": "439ebc53-220a-4c22-a8b6-fdc70b8301e1"
   },
   "outputs": [
    {
     "data": {
      "text/plain": [
       "array(['Iris-setosa', 'Iris-versicolor', 'Iris-virginica'], dtype=object)"
      ]
     },
     "execution_count": 8,
     "metadata": {},
     "output_type": "execute_result"
    }
   ],
   "source": [
    "iris_data['Class'].unique()"
   ]
  },
  {
   "cell_type": "markdown",
   "metadata": {
    "id": "J3aZvcbezFTI"
   },
   "source": [
    "<div dir=rtl>\n",
    "در این قسمت ابتدا پس از خواندن داده ها، با تابع plt.scatter() داده ها را میکشیم. این طور که مشخص است دو feature عه 'Sepal_Length','Petal_Width' دو feature ای هستند که این داده ها را بهتر میتوانند از یکدیگر جدا کنند و در نتیجه با بررسی این دو ویژگی طبقه بند ما بهتر عمل خواهد کرد.\n",
    "</div>\n"
   ]
  },
  {
   "cell_type": "code",
   "execution_count": null,
   "metadata": {
    "colab": {
     "base_uri": "https://localhost:8080/",
     "height": 1000
    },
    "id": "YT2T59cxaxvq",
    "outputId": "148e38dd-6481-4212-8b0a-2c6f62d2cc6f"
   },
   "outputs": [
    {
     "data": {
      "image/png": "[encoded data removed]",
      "text/plain": [
       "<Figure size 432x288 with 1 Axes>"
      ]
     },
     "metadata": {},
     "output_type": "display_data"
    },
    {
     "data": {
      "image/png": "[encoded data removed]",
      "text/plain": [
       "<Figure size 432x288 with 1 Axes>"
      ]
     },
     "metadata": {},
     "output_type": "display_data"
    },
    {
     "data": {
      "image/png": "[encoded data removed]",
      "text/plain": [
       "<Figure size 432x288 with 1 Axes>"
      ]
     },
     "metadata": {},
     "output_type": "display_data"
    },
    {
     "data": {
      "image/png": "[encoded data removed]",
      "text/plain": [
       "<Figure size 432x288 with 1 Axes>"
      ]
     },
     "metadata": {},
     "output_type": "display_data"
    },
    {
     "data": {
      "image/png": "[encoded data removed]",
      "text/plain": [
       "<Figure size 432x288 with 1 Axes>"
      ]
     },
     "metadata": {},
     "output_type": "display_data"
    },
    {
     "data": {
      "image/png": "[encoded data removed]",
      "text/plain": [
       "<Figure size 432x288 with 1 Axes>"
      ]
     },
     "metadata": {},
     "output_type": "display_data"
    }
   ],
   "source": [
    "def draw_scatter_plots(X1,X2,X3,features1,features2):\n",
    "  for f1,f2 in zip(features1,features2):\n",
    "    plt.scatter(X1[f1], X1[f2], label = \"Iris-setosa\")\n",
    "    plt.scatter(X2[f1], X2[f2], label = \"Iris-versicolor\")\n",
    "    plt.scatter(X3[f1], X3[f2], label = \"Iris-virginica\")\n",
    "    plt.xlabel(f1)\n",
    "    plt.ylabel(f2)\n",
    "    plt.legend()\n",
    "    plt.show()\n",
    "\n",
    "features1 = ['Sepal_Length','Sepal_Length','Sepal_Length','Sepal_Width','Sepal_Width','Petal_Length']\n",
    "features2 = ['Sepal_Width','Petal_Length','Petal_Width','Petal_Length','Petal_Width','Petal_Width']\n",
    "\n",
    "X1 = iris_data[iris_data['Class'] == 'Iris-setosa']\n",
    "X2 = iris_data[iris_data['Class'] == 'Iris-versicolor']\n",
    "X3 = iris_data[iris_data['Class'] == 'Iris-virginica']\n",
    "draw_scatter_plots(X1,X2,X3,features1,features2)"
   ]
  },
  {
   "cell_type": "markdown",
   "metadata": {
    "id": "1ejzDINrzcXw"
   },
   "source": [
    "<div dir=rtl>در این بخش یک کلاس تعریف کرده ایم. در تابع fit ابتدا داده ها ست می شوند به این صورت که داده های هر ۳ کلاس داده شده از یک دیگر جدا می شوند. در بخش predict ابتدا مرکز هر کلاس مشخص می شود. سپس با صدا زدن تابع find_nearest_centroid نزدیک ترین مرکز به این صورت پیدا میشود که فاصله داده تا ۳ مرکز دسته را با فاصله اقلیدوسی به دست می آوریم و نزدیک ترین را انتخاب میکنیم. در ادامه لیبل مربوط به نزدیک ترین مرکز را به عنوان لیبل پیشبینی شده اعلام میکنیم.\n",
    "</div>\n"
   ]
  },
  {
   "cell_type": "code",
   "execution_count": null,
   "metadata": {
    "id": "_0nKcBvQerAn"
   },
   "outputs": [],
   "source": [
    "class nearestCentroidClassifier():\n",
    "  def __init__(self):\n",
    "    self.X = []\n",
    "    self.centroids = []\n",
    "    \n",
    "  def fit(self,X_train,y_train):\n",
    "    self.labels = y_train.unique()\n",
    "    for i in self.labels:\n",
    "      x = X_train.loc[y_train[y_train == i].index].reset_index().drop(columns=['index'])\n",
    "      self.X.append(x)\n",
    "\n",
    "  def get_euclidean_dist(self,x,y):\n",
    "    return np.sqrt( np.sum( np.square( x - y ) ) )\n",
    "\n",
    "  def find_nearest_centroid(self, new_data):\n",
    "    new_data_distances = []\n",
    "    for centroid in self.centroids:\n",
    "      new_data_distances.append(self.get_euclidean_dist(centroid,new_data))\n",
    "    centroids_labels_array = np.array(new_data_distances)\n",
    "    indexes = centroids_labels_array.argsort()\n",
    "    return indexes[0]\n",
    "  \n",
    "  def predict(self,X_test):\n",
    "    for x in self.X:\n",
    "      centroid = []\n",
    "      for feature in x.columns:\n",
    "        centroid.append(x[feature].mean(axis=0))\n",
    "      self.centroids.append(np.array(centroid))\n",
    "    y_pred = []\n",
    "    for i in np.array(X_test):\n",
    "      label_index = self.find_nearest_centroid(i)\n",
    "      y_pred.append(self.labels[label_index])\n",
    "\n",
    "    return np.array(y_pred) \n",
    "\n",
    "  def score(self,X_test, y_test):\n",
    "    y_pred = self.predict(X_test)\n",
    "    return len(y_test[y_test == y_pred]) / len(y_test)"
   ]
  },
  {
   "cell_type": "code",
   "execution_count": null,
   "metadata": {
    "id": "8MR4b83Xugnu"
   },
   "outputs": [],
   "source": [
    "from sklearn.metrics import confusion_matrix\n",
    "import itertools\n",
    "\n",
    "def draw_cm(y_true, y_pred, class_names):\n",
    "  cm = confusion_matrix(y_true, y_pred)\n",
    "  plt.imshow(cm, interpolation='nearest', cmap=plt.cm.Blues)\n",
    "  plt.title('Confusion matrix')\n",
    "  plt.colorbar()\n",
    "  tick_marks = np.arange(len(class_names))\n",
    "  plt.xticks(tick_marks, class_names, rotation=45)\n",
    "  plt.yticks(tick_marks, class_names)\n",
    "  thresh = cm.max() / 3.\n",
    "  for i, j in itertools.product(range(cm.shape[0]), range(cm.shape[1])):\n",
    "      plt.text(j, i, cm[i, j],\n",
    "               horizontalalignment=\"center\",\n",
    "               color=\"white\" if cm[i, j] > thresh else \"black\")\n",
    "  plt.tight_layout()\n",
    "  plt.ylabel('True label')\n",
    "  plt.xlabel('Predicted label')\n",
    "  plt.show()"
   ]
  },
  {
   "cell_type": "code",
   "execution_count": null,
   "metadata": {
    "id": "3VeOvl6scggn"
   },
   "outputs": [],
   "source": [
    "from sklearn.model_selection import train_test_split\n",
    "\n",
    "X = iris_data[['Sepal_Length','Petal_Width']]\n",
    "y = iris_data['Class']\n",
    "y.replace({'Iris-setosa':0, 'Iris-versicolor':1, 'Iris-virginica':2},inplace=True)\n",
    "X_train, X_test, y_train, y_test = train_test_split(X, y, test_size=0.2, random_state=42)"
   ]
  },
  {
   "cell_type": "code",
   "execution_count": null,
   "metadata": {
    "colab": {
     "base_uri": "https://localhost:8080/",
     "height": 346
    },
    "id": "wvBKOI30dlvm",
    "outputId": "11f42e4d-89bb-4987-fe60-bf834674fbb6"
   },
   "outputs": [
    {
     "data": {
      "image/png": "[encoded data removed]",
      "text/plain": [
       "<Figure size 432x288 with 2 Axes>"
      ]
     },
     "metadata": {},
     "output_type": "display_data"
    },
    {
     "name": "stdout",
     "output_type": "stream",
     "text": [
      "train accuracy:  0.8333333333333334\n",
      "test accuracy:  0.9333333333333333\n"
     ]
    }
   ],
   "source": [
    "ncc = nearestCentroidClassifier()\n",
    "ncc.fit(X_train,y_train)\n",
    "y_pred = ncc.predict(X_test)\n",
    "draw_cm(y_test,y_pred,['Iris-setosa', 'Iris-versicolor', 'Iris-virginica'])\n",
    "print('train accuracy: ', ncc.score(X_train,y_train))\n",
    "print('test accuracy: ', ncc.score(X_test,y_test))"
   ]
  },
  {
   "cell_type": "markdown",
   "metadata": {
    "id": "6e2phJs80JVW"
   },
   "source": [
    "<div dir=rtl>حال در این بخش از تابع پیاده سازی شده در کتابخانه sklearn استفاده میکنیم. همانطور که مشخص است جواب های ما به جواب های این کتابخانه بسیار نزدیک است و درواقع یکی است\n",
    "</div>\n"
   ]
  },
  {
   "cell_type": "code",
   "execution_count": null,
   "metadata": {
    "colab": {
     "base_uri": "https://localhost:8080/",
     "height": 346
    },
    "id": "t4pIRJy0nvSx",
    "outputId": "95b11266-f4a0-41ec-f4aa-69c640ab8da1"
   },
   "outputs": [
    {
     "data": {
      "image/png": "[encoded data removed]",
      "text/plain": [
       "<Figure size 432x288 with 2 Axes>"
      ]
     },
     "metadata": {},
     "output_type": "display_data"
    },
    {
     "name": "stdout",
     "output_type": "stream",
     "text": [
      "train accuracy:  0.8333333333333334\n",
      "test accuracy:  0.9333333333333333\n"
     ]
    }
   ],
   "source": [
    "from sklearn.neighbors import NearestCentroid\n",
    "clf = NearestCentroid()\n",
    "clf.fit(X_train.to_numpy(), y_train.to_numpy())\n",
    "y_pred = clf.predict(X_test.to_numpy())\n",
    "draw_cm(y_test,y_pred,['Iris-setosa', 'Iris-versicolor', 'Iris-virginica'])\n",
    "print('train accuracy: ', clf.score(X_train.to_numpy(),y_train.to_numpy()))\n",
    "print('test accuracy: ', clf.score(X_test.to_numpy(),y_test.to_numpy()))"
   ]
  },
  {
   "cell_type": "markdown",
   "metadata": {
    "id": "cG-NcjNk0XAG"
   },
   "source": [
    "<div dir=rtl>در این قسمت با تابع roc_curve و RocCurveDisplay از sklearn نمودار های roc را رسم میکنیم و مساحت زیر هر نمودار که همان auc است را چاپ کرده ایم\n",
    "</div>\n"
   ]
  },
  {
   "cell_type": "code",
   "execution_count": null,
   "metadata": {
    "id": "jVdawOmsuHKA"
   },
   "outputs": [],
   "source": [
    "from sklearn import metrics\n",
    "from sklearn.preprocessing import label_binarize\n",
    "\n",
    "y_test=label_binarize(y_test.to_numpy(), classes=[0, 1, 2])\n",
    "y_pred=label_binarize(y_pred, classes=[0, 1, 2])"
   ]
  },
  {
   "cell_type": "code",
   "execution_count": null,
   "metadata": {
    "colab": {
     "base_uri": "https://localhost:8080/",
     "height": 903
    },
    "id": "_vvSCNQ6xcDw",
    "outputId": "78ac0a3e-1c64-4e0d-bb58-f5ac200166e3"
   },
   "outputs": [
    {
     "name": "stdout",
     "output_type": "stream",
     "text": [
      "1.0\n"
     ]
    },
    {
     "data": {
      "image/png": "[encoded data removed]",
      "text/plain": [
       "<Figure size 432x288 with 1 Axes>"
      ]
     },
     "metadata": {},
     "output_type": "display_data"
    },
    {
     "name": "stdout",
     "output_type": "stream",
     "text": [
      "0.8888888888888888\n"
     ]
    },
    {
     "data": {
      "image/png": "[encoded data removed]",
      "text/plain": [
       "<Figure size 432x288 with 1 Axes>"
      ]
     },
     "metadata": {},
     "output_type": "display_data"
    },
    {
     "name": "stdout",
     "output_type": "stream",
     "text": [
      "0.9473684210526316\n"
     ]
    },
    {
     "data": {
      "image/png": "[encoded data removed]",
      "text/plain": [
       "<Figure size 432x288 with 1 Axes>"
      ]
     },
     "metadata": {},
     "output_type": "display_data"
    }
   ],
   "source": [
    "classes = ['Iris-setosa', 'Iris-versicolor', 'Iris-virginica']\n",
    "for i in range(3):\n",
    "  fpr, tpr, thresholds = metrics.roc_curve(y_test[:, i], y_pred[:, i])\n",
    "  roc_auc = metrics.auc(fpr, tpr)\n",
    "  print(roc_auc)\n",
    "  display = metrics.RocCurveDisplay(fpr=fpr, tpr=tpr, roc_auc=roc_auc,estimator_name='example estimator')\n",
    "  display.plot()\n",
    "  plt.title(classes[i])\n",
    "  plt.show()"
   ]
  },
  {
   "cell_type": "markdown",
   "metadata": {
    "id": "JGdhoRV_0lfy"
   },
   "source": [
    "# سوال ۷"
   ]
  },
  {
   "cell_type": "markdown",
   "metadata": {
    "id": "AFwWAb9_pnL4"
   },
   "source": [
    "<div dir=rtl>\n",
    "درواقع optimal bayes classifier کلاسی را انتخاب میکند که بزرگترین احتمال رخداد را دارد. همانطور که در سوال های قبلی این تمرین اثابت کردیم، میتوان نشان داد که این طبقه بند درواقع بهینه ترین طبقه بندی را انجام میدهد. بنابراین با دانستن توزیع posterior استفاده از طبقه بند bayes بهترین انتخاب خواهد بود. <br> در مسائل واقعی درواقع ما توزیع posterior را اغلب نخواهیم داشت و آن را تخمین خواهیم زد. naive bayes classifier درواقع optimal bayes classifier را تخمین میزند به طوری که به داده دیده شده نگاه میکند و فرض میکند که feature ها از یکدیگر مستقل هستند. بنابر این طبقه بند naive bayes خودش بهینه نیست ولی روش بهینه را تخمین میزند. اگر در حالت کلی feature ها از یکدیگر مستقل باشند، تخمین naive bayes با optimal bayes یکی خواهد بود.\n",
    "</div>\n"
   ]
  },
  {
   "cell_type": "code",
   "execution_count": 54,
   "metadata": {
    "colab": {
     "base_uri": "https://localhost:8080/",
     "height": 424
    },
    "id": "mi4jV0ZbyuLX",
    "outputId": "37a6a835-e4d8-44df-9ba0-9a5a29ffb6c2"
   },
   "outputs": [
    {
     "data": {
      "text/html": [
       "\n",
       "  <div id=\"df-f6ad1a1c-4d2c-460d-b554-456a973fe891\">\n",
       "    <div class=\"colab-df-container\">\n",
       "      <div>\n",
       "<style scoped>\n",
       "    .dataframe tbody tr th:only-of-type {\n",
       "        vertical-align: middle;\n",
       "    }\n",
       "\n",
       "    .dataframe tbody tr th {\n",
       "        vertical-align: top;\n",
       "    }\n",
       "\n",
       "    .dataframe thead th {\n",
       "        text-align: right;\n",
       "    }\n",
       "</style>\n",
       "<table border=\"1\" class=\"dataframe\">\n",
       "  <thead>\n",
       "    <tr style=\"text-align: right;\">\n",
       "      <th></th>\n",
       "      <th>mean_radius</th>\n",
       "      <th>mean_texture</th>\n",
       "      <th>mean_perimeter</th>\n",
       "      <th>mean_area</th>\n",
       "      <th>mean_smoothness</th>\n",
       "      <th>diagnosis</th>\n",
       "    </tr>\n",
       "  </thead>\n",
       "  <tbody>\n",
       "    <tr>\n",
       "      <th>0</th>\n",
       "      <td>17.99</td>\n",
       "      <td>10.38</td>\n",
       "      <td>122.80</td>\n",
       "      <td>1001.0</td>\n",
       "      <td>0.11840</td>\n",
       "      <td>0</td>\n",
       "    </tr>\n",
       "    <tr>\n",
       "      <th>1</th>\n",
       "      <td>20.57</td>\n",
       "      <td>17.77</td>\n",
       "      <td>132.90</td>\n",
       "      <td>1326.0</td>\n",
       "      <td>0.08474</td>\n",
       "      <td>0</td>\n",
       "    </tr>\n",
       "    <tr>\n",
       "      <th>2</th>\n",
       "      <td>19.69</td>\n",
       "      <td>21.25</td>\n",
       "      <td>130.00</td>\n",
       "      <td>1203.0</td>\n",
       "      <td>0.10960</td>\n",
       "      <td>0</td>\n",
       "    </tr>\n",
       "    <tr>\n",
       "      <th>3</th>\n",
       "      <td>11.42</td>\n",
       "      <td>20.38</td>\n",
       "      <td>77.58</td>\n",
       "      <td>386.1</td>\n",
       "      <td>0.14250</td>\n",
       "      <td>0</td>\n",
       "    </tr>\n",
       "    <tr>\n",
       "      <th>4</th>\n",
       "      <td>20.29</td>\n",
       "      <td>14.34</td>\n",
       "      <td>135.10</td>\n",
       "      <td>1297.0</td>\n",
       "      <td>0.10030</td>\n",
       "      <td>0</td>\n",
       "    </tr>\n",
       "    <tr>\n",
       "      <th>...</th>\n",
       "      <td>...</td>\n",
       "      <td>...</td>\n",
       "      <td>...</td>\n",
       "      <td>...</td>\n",
       "      <td>...</td>\n",
       "      <td>...</td>\n",
       "    </tr>\n",
       "    <tr>\n",
       "      <th>564</th>\n",
       "      <td>21.56</td>\n",
       "      <td>22.39</td>\n",
       "      <td>142.00</td>\n",
       "      <td>1479.0</td>\n",
       "      <td>0.11100</td>\n",
       "      <td>0</td>\n",
       "    </tr>\n",
       "    <tr>\n",
       "      <th>565</th>\n",
       "      <td>20.13</td>\n",
       "      <td>28.25</td>\n",
       "      <td>131.20</td>\n",
       "      <td>1261.0</td>\n",
       "      <td>0.09780</td>\n",
       "      <td>0</td>\n",
       "    </tr>\n",
       "    <tr>\n",
       "      <th>566</th>\n",
       "      <td>16.60</td>\n",
       "      <td>28.08</td>\n",
       "      <td>108.30</td>\n",
       "      <td>858.1</td>\n",
       "      <td>0.08455</td>\n",
       "      <td>0</td>\n",
       "    </tr>\n",
       "    <tr>\n",
       "      <th>567</th>\n",
       "      <td>20.60</td>\n",
       "      <td>29.33</td>\n",
       "      <td>140.10</td>\n",
       "      <td>1265.0</td>\n",
       "      <td>0.11780</td>\n",
       "      <td>0</td>\n",
       "    </tr>\n",
       "    <tr>\n",
       "      <th>568</th>\n",
       "      <td>7.76</td>\n",
       "      <td>24.54</td>\n",
       "      <td>47.92</td>\n",
       "      <td>181.0</td>\n",
       "      <td>0.05263</td>\n",
       "      <td>1</td>\n",
       "    </tr>\n",
       "  </tbody>\n",
       "</table>\n",
       "<p>569 rows × 6 columns</p>\n",
       "</div>\n",
       "      <button class=\"colab-df-convert\" onclick=\"convertToInteractive('df-f6ad1a1c-4d2c-460d-b554-456a973fe891')\"\n",
       "              title=\"Convert this dataframe to an interactive table.\"\n",
       "              style=\"display:none;\">\n",
       "        \n",
       "  <svg xmlns=\"http://www.w3.org/2000/svg\" height=\"24px\"viewBox=\"0 0 24 24\"\n",
       "       width=\"24px\">\n",
       "    <path d=\"M0 0h24v24H0V0z\" fill=\"none\"/>\n",
       "    <path d=\"M18.56 5.44l.94 2.06.94-2.06 2.06-.94-2.06-.94-.94-2.06-.94 2.06-2.06.94zm-11 1L8.5 8.5l.94-2.06 2.06-.94-2.06-.94L8.5 2.5l-.94 2.06-2.06.94zm10 10l.94 2.06.94-2.06 2.06-.94-2.06-.94-.94-2.06-.94 2.06-2.06.94z\"/><path d=\"M17.41 7.96l-1.37-1.37c-.4-.4-.92-.59-1.43-.59-.52 0-1.04.2-1.43.59L10.3 9.45l-7.72 7.72c-.78.78-.78 2.05 0 2.83L4 21.41c.39.39.9.59 1.41.59.51 0 1.02-.2 1.41-.59l7.78-7.78 2.81-2.81c.8-.78.8-2.07 0-2.86zM5.41 20L4 18.59l7.72-7.72 1.47 1.35L5.41 20z\"/>\n",
       "  </svg>\n",
       "      </button>\n",
       "      \n",
       "  <style>\n",
       "    .colab-df-container {\n",
       "      display:flex;\n",
       "      flex-wrap:wrap;\n",
       "      gap: 12px;\n",
       "    }\n",
       "\n",
       "    .colab-df-convert {\n",
       "      background-color: #E8F0FE;\n",
       "      border: none;\n",
       "      border-radius: 50%;\n",
       "      cursor: pointer;\n",
       "      display: none;\n",
       "      fill: #1967D2;\n",
       "      height: 32px;\n",
       "      padding: 0 0 0 0;\n",
       "      width: 32px;\n",
       "    }\n",
       "\n",
       "    .colab-df-convert:hover {\n",
       "      background-color: #E2EBFA;\n",
       "      box-shadow: 0px 1px 2px rgba(60, 64, 67, 0.3), 0px 1px 3px 1px rgba(60, 64, 67, 0.15);\n",
       "      fill: #174EA6;\n",
       "    }\n",
       "\n",
       "    [theme=dark] .colab-df-convert {\n",
       "      background-color: #3B4455;\n",
       "      fill: #D2E3FC;\n",
       "    }\n",
       "\n",
       "    [theme=dark] .colab-df-convert:hover {\n",
       "      background-color: #434B5C;\n",
       "      box-shadow: 0px 1px 3px 1px rgba(0, 0, 0, 0.15);\n",
       "      filter: drop-shadow(0px 1px 2px rgba(0, 0, 0, 0.3));\n",
       "      fill: #FFFFFF;\n",
       "    }\n",
       "  </style>\n",
       "\n",
       "      <script>\n",
       "        const buttonEl =\n",
       "          document.querySelector('#df-f6ad1a1c-4d2c-460d-b554-456a973fe891 button.colab-df-convert');\n",
       "        buttonEl.style.display =\n",
       "          google.colab.kernel.accessAllowed ? 'block' : 'none';\n",
       "\n",
       "        async function convertToInteractive(key) {\n",
       "          const element = document.querySelector('#df-f6ad1a1c-4d2c-460d-b554-456a973fe891');\n",
       "          const dataTable =\n",
       "            await google.colab.kernel.invokeFunction('convertToInteractive',\n",
       "                                                     [key], {});\n",
       "          if (!dataTable) return;\n",
       "\n",
       "          const docLinkHtml = 'Like what you see? Visit the ' +\n",
       "            '<a target=\"_blank\" href=https://colab.research.google.com/notebooks/data_table.ipynb>data table notebook</a>'\n",
       "            + ' to learn more about interactive tables.';\n",
       "          element.innerHTML = '';\n",
       "          dataTable['output_type'] = 'display_data';\n",
       "          await google.colab.output.renderOutput(dataTable, element);\n",
       "          const docLink = document.createElement('div');\n",
       "          docLink.innerHTML = docLinkHtml;\n",
       "          element.appendChild(docLink);\n",
       "        }\n",
       "      </script>\n",
       "    </div>\n",
       "  </div>\n",
       "  "
      ],
      "text/plain": [
       "     mean_radius  mean_texture  ...  mean_smoothness  diagnosis\n",
       "0          17.99         10.38  ...          0.11840          0\n",
       "1          20.57         17.77  ...          0.08474          0\n",
       "2          19.69         21.25  ...          0.10960          0\n",
       "3          11.42         20.38  ...          0.14250          0\n",
       "4          20.29         14.34  ...          0.10030          0\n",
       "..           ...           ...  ...              ...        ...\n",
       "564        21.56         22.39  ...          0.11100          0\n",
       "565        20.13         28.25  ...          0.09780          0\n",
       "566        16.60         28.08  ...          0.08455          0\n",
       "567        20.60         29.33  ...          0.11780          0\n",
       "568         7.76         24.54  ...          0.05263          1\n",
       "\n",
       "[569 rows x 6 columns]"
      ]
     },
     "execution_count": 54,
     "metadata": {},
     "output_type": "execute_result"
    }
   ],
   "source": [
    "breast_cancer = pd.read_csv('/content/drive/MyDrive/Breast_cancer_data.csv')\n",
    "breast_cancer"
   ]
  },
  {
   "cell_type": "code",
   "execution_count": 55,
   "metadata": {
    "colab": {
     "base_uri": "https://localhost:8080/"
    },
    "id": "4lscqiO2XUnV",
    "outputId": "a428fa1c-a541-4b99-f58d-04a48ef4569f"
   },
   "outputs": [
    {
     "data": {
      "text/plain": [
       "array([0, 1])"
      ]
     },
     "execution_count": 55,
     "metadata": {},
     "output_type": "execute_result"
    }
   ],
   "source": [
    "breast_cancer.diagnosis.unique()"
   ]
  },
  {
   "cell_type": "code",
   "execution_count": 56,
   "metadata": {
    "id": "b-3dhoLRXhsW"
   },
   "outputs": [],
   "source": [
    "from sklearn.metrics import confusion_matrix\n",
    "import itertools\n",
    "\n",
    "def draw_cm(y_true, y_pred, class_names):\n",
    "  cm = confusion_matrix(y_true, y_pred)\n",
    "  plt.imshow(cm, interpolation='nearest', cmap=plt.cm.Blues)\n",
    "  plt.title('Confusion matrix')\n",
    "  plt.colorbar()\n",
    "  tick_marks = np.arange(len(class_names))\n",
    "  plt.xticks(tick_marks, class_names, rotation=45)\n",
    "  plt.yticks(tick_marks, class_names)\n",
    "  thresh = cm.max() / 2.\n",
    "  for i, j in itertools.product(range(cm.shape[0]), range(cm.shape[1])):\n",
    "      plt.text(j, i, cm[i, j],\n",
    "               horizontalalignment=\"center\",\n",
    "               color=\"white\" if cm[i, j] > thresh else \"black\")\n",
    "  plt.tight_layout()\n",
    "  plt.ylabel('True label')\n",
    "  plt.xlabel('Predicted label')\n",
    "  plt.show()"
   ]
  },
  {
   "cell_type": "markdown",
   "metadata": {
    "id": "4yppHP09ncdy"
   },
   "source": [
    "<div dir=rtl>\n",
    " ابتدا توسط تابع read_csv داده را میخوانیم سپس به پیاده‌سازی کلاس naive bayes classifier میپردازیم . در این کلاس، تابع فیت داده ها را ست میکند و توسط دو تابع دیگر یکی احتمال prior هر کلاس و دیگری mean و variance هر کلاس را بدست می‌اورد. در ادامه تابع predic به محاسبه احتمال posterior تک تک داده ها میپردازد و با توجه به اینکه posterior کدام کلاس برای آن تابع بیشینه است، کلاس مورد نظر را انتخاب میکند. برای محاسبه posterior و پیدا کردن کلاس به تابع calculate_posterior میرویم. در این تابع ابتدا احتمال هر فیچر را بر اساس توزیع گوسی بدست می‌آوریم. برای محاسبه conditional prob این احتمال ها را در یکدیگر ضرب میکنیم زیرا میدانیم در این روش فرض میشود که feature ها از یکدیگر مستقل هستند. در نهایت این احتمال را در prior مان ضرب میکنیم و به اسن صورت postrior هر کلاس محاسبه مس‌شود. حال با پیدا کردن آن کلاسی که posterior بیشتری دارد میتوانیم کلاس داده مورد نظر را بیابیم.\n",
    "</div>\n"
   ]
  },
  {
   "cell_type": "code",
   "execution_count": 86,
   "metadata": {
    "id": "YZkgSNbEI83O"
   },
   "outputs": [],
   "source": [
    "class naive_baye_classifier():\n",
    "  def calculate_mean_var(self, X_train, y_train):\n",
    "    self.mean = X_train.groupby(y_train).apply(np.mean).to_numpy()\n",
    "    self.var = X_train.groupby(y_train).apply(np.var).to_numpy()\n",
    "\n",
    "  def calculate_prior(self,X_train, y_train):\n",
    "    self.prior = (X_train.groupby(y_train).apply(lambda x: len(x)) / X_train.shape[0]).to_numpy()\n",
    "\n",
    "  def fit(self, X_train, y_train):\n",
    "    self.labels = np.unique(y_train)\n",
    "    self.calculate_mean_var(X_train, y_train)\n",
    "    self.calculate_prior(X_train, y_train)\n",
    "\n",
    "  def gaussian_pdf(self, X, mean, variance):     \n",
    "    return np.exp(-(1/2) * (((X - mean)/variance)**2))/(((2 * np.pi)**1/2)*variance)\n",
    "\n",
    "  def calculate_posterior(self,x):\n",
    "    posteriors = []\n",
    "    for class_idx in range(len(self.labels)):\n",
    "      prior = self.prior[class_idx]\n",
    "      conditional_prob = np.prod(self.gaussian_pdf(x, self.mean[class_idx], self.var[class_idx]))\n",
    "      posterior = prior * conditional_prob\n",
    "      posteriors.append(posterior)\n",
    "    return self.labels[np.argmax(posteriors)]\n",
    "\n",
    "  def predict(self, X_train):\n",
    "    preds = [self.calculate_posterior(x) for x in X_train.to_numpy()]\n",
    "    return preds\n",
    "\n",
    "  def score(self, X_test, y_test):\n",
    "    y_pred = self.predict(X_test)\n",
    "    accuracy = len(y_test[y_test == y_pred]) / len(y_test)\n",
    "    return accuracy"
   ]
  },
  {
   "cell_type": "code",
   "execution_count": 58,
   "metadata": {
    "id": "in3_9kRJXlZb"
   },
   "outputs": [],
   "source": [
    "def preprocess(X):\n",
    "  for f in X.columns:\n",
    "    min = X[f].min()\n",
    "    max = X[f].max()\n",
    "    X[f] = (X[f] - min)/(max - min)\n",
    "  return X"
   ]
  },
  {
   "cell_type": "code",
   "execution_count": null,
   "metadata": {
    "id": "ShGkzFl4YegV"
   },
   "outputs": [],
   "source": [
    "X = preprocess(breast_cancer)\n",
    "y = X['diagnosis']\n",
    "X = X.drop(columns=['diagnosis'])"
   ]
  },
  {
   "cell_type": "code",
   "execution_count": 75,
   "metadata": {
    "id": "pg5AR4EZYkBT"
   },
   "outputs": [],
   "source": [
    "from sklearn.model_selection import train_test_split\n",
    "\n",
    "X_train, X_test, y_train, y_test = train_test_split(X, y, test_size=0.2, random_state=42)"
   ]
  },
  {
   "cell_type": "markdown",
   "metadata": {
    "id": "L0e7w89zpbTh"
   },
   "source": [
    "<div dir=rtl>\n",
    "در این بخش از تابع score استفاده میکنیم تا دقت را بیابیم. همچنین confiusion matrix را میتوانید مشاهده کنید.\n",
    "</div>\n"
   ]
  },
  {
   "cell_type": "code",
   "execution_count": 87,
   "metadata": {
    "colab": {
     "base_uri": "https://localhost:8080/",
     "height": 346
    },
    "id": "CEXMCR6pZOQf",
    "outputId": "16dfc967-d64e-4f1d-f0cb-d28dae00039a"
   },
   "outputs": [
    {
     "name": "stdout",
     "output_type": "stream",
     "text": [
      "train accuracy :  0.7296703296703296\n",
      "test accuracy :  0.7456140350877193\n"
     ]
    },
    {
     "data": {
      "image/png": "[encoded data removed]",
      "text/plain": [
       "<Figure size 432x288 with 2 Axes>"
      ]
     },
     "metadata": {
      "needs_background": "light"
     },
     "output_type": "display_data"
    }
   ],
   "source": [
    "nbc = naive_baye_classifier()\n",
    "nbc.fit(X_train,y_train)\n",
    "y_pred = nbc.predict(X_test)\n",
    "print('train accuracy : ',nbc.score(X_train,y_train))\n",
    "print('test accuracy : ',nbc.score(X_test,y_test))\n",
    "draw_cm(y_test,y_pred,[0,1])"
   ]
  },
  {
   "cell_type": "markdown",
   "metadata": {
    "id": "Wm0M54aorVpx"
   },
   "source": [
    "<div dir=rtl>در این بخش نیز از کتابخانه آماده sklearn و تابع gaussianNB استفاده میکنیم. همانطور که در زیر میبینید، دقت این طبقه بند از طبقه بندی که ما پیاده‌سازی کردیم بهتر شده است. (متوجه نمی‌شوم چرا!)\n",
    "</div>\n"
   ]
  },
  {
   "cell_type": "code",
   "execution_count": 66,
   "metadata": {
    "colab": {
     "base_uri": "https://localhost:8080/",
     "height": 346
    },
    "id": "Zq2z2NxvjpeW",
    "outputId": "688b564d-c443-4272-b4de-9b53fa279322"
   },
   "outputs": [
    {
     "name": "stdout",
     "output_type": "stream",
     "text": [
      "train accuracy :  0.8967032967032967\n",
      "test accuracy :  0.9473684210526315\n"
     ]
    },
    {
     "data": {
      "image/png": "[encoded data removed]",
      "text/plain": [
       "<Figure size 432x288 with 2 Axes>"
      ]
     },
     "metadata": {
      "needs_background": "light"
     },
     "output_type": "display_data"
    }
   ],
   "source": [
    "from sklearn.naive_bayes import GaussianNB\n",
    "clf = GaussianNB()\n",
    "clf.fit(X_train, y_train)\n",
    "y_pred = clf.predict(X_test)\n",
    "print('train accuracy : ',clf.score(X_train,y_train))\n",
    "print('test accuracy : ',clf.score(X_test,y_test))\n",
    "draw_cm(y_test,y_pred,[0,1])"
   ]
  }
 ],
 "metadata": {
  "colab": {
   "collapsed_sections": [
    "pEuUZU9_aro7"
   ],
   "name": "Q6&7.ipynb",
   "provenance": []
  },
  "kernelspec": {
   "display_name": "Python 3",
   "language": "python",
   "name": "python3"
  },
  "language_info": {
   "codemirror_mode": {
    "name": "ipython",
    "version": 3
   },
   "file_extension": ".py",
   "mimetype": "text/x-python",
   "name": "python",
   "nbconvert_exporter": "python",
   "pygments_lexer": "ipython3",
   "version": "3.8.5"
  }
 },
 "nbformat": 4,
 "nbformat_minor": 1
}
